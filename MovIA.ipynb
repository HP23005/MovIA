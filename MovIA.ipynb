{
 "cells": [
  {
   "cell_type": "code",
   "execution_count": 1,
   "id": "2b589171-1a90-45df-8d05-5dc45227c1e8",
   "metadata": {},
   "outputs": [
    {
     "name": "stdout",
     "output_type": "stream",
     "text": [
      "Requirement already satisfied: kagglehub in c:\\users\\ivan\\anaconda3\\lib\\site-packages (0.3.10)Note: you may need to restart the kernel to use updated packages.\n",
      "\n",
      "Requirement already satisfied: packaging in c:\\users\\ivan\\anaconda3\\lib\\site-packages (from kagglehub) (23.2)\n",
      "Requirement already satisfied: pyyaml in c:\\users\\ivan\\anaconda3\\lib\\site-packages (from kagglehub) (6.0.1)\n",
      "Requirement already satisfied: requests in c:\\users\\ivan\\anaconda3\\lib\\site-packages (from kagglehub) (2.32.2)\n",
      "Requirement already satisfied: tqdm in c:\\users\\ivan\\anaconda3\\lib\\site-packages (from kagglehub) (4.66.4)\n",
      "Requirement already satisfied: charset-normalizer<4,>=2 in c:\\users\\ivan\\anaconda3\\lib\\site-packages (from requests->kagglehub) (2.0.4)\n",
      "Requirement already satisfied: idna<4,>=2.5 in c:\\users\\ivan\\anaconda3\\lib\\site-packages (from requests->kagglehub) (3.7)\n",
      "Requirement already satisfied: urllib3<3,>=1.21.1 in c:\\users\\ivan\\anaconda3\\lib\\site-packages (from requests->kagglehub) (2.2.2)\n",
      "Requirement already satisfied: certifi>=2017.4.17 in c:\\users\\ivan\\anaconda3\\lib\\site-packages (from requests->kagglehub) (2024.8.30)\n",
      "Requirement already satisfied: colorama in c:\\users\\ivan\\anaconda3\\lib\\site-packages (from tqdm->kagglehub) (0.4.6)\n"
     ]
    }
   ],
   "source": [
    "pip install kagglehub"
   ]
  },
  {
   "cell_type": "code",
   "execution_count": 2,
   "id": "8b898f0b-d195-422e-a096-74bd10332faa",
   "metadata": {},
   "outputs": [
    {
     "name": "stdout",
     "output_type": "stream",
     "text": [
      "Path to dataset files: C:\\Users\\ivan\\.cache\\kagglehub\\datasets\\netflix-inc\\netflix-prize-data\\versions\\2\n"
     ]
    }
   ],
   "source": [
    "import kagglehub\n",
    "\n",
    "# Download latest version\n",
    "path = kagglehub.dataset_download(\"netflix-inc/netflix-prize-data\")\n",
    "\n",
    "print(\"Path to dataset files:\", path)"
   ]
  },
  {
   "cell_type": "code",
   "execution_count": 6,
   "id": "07b876d3-fe85-423e-aef4-e55c49373af9",
   "metadata": {},
   "outputs": [],
   "source": [
    "import pandas as pd\n",
    "import re\n",
    "from unidecode import unidecode\n",
    "from glob import glob"
   ]
  },
  {
   "cell_type": "code",
   "execution_count": 8,
   "id": "635b4cf9-38d7-46d5-bce6-923f257fee80",
   "metadata": {},
   "outputs": [],
   "source": [
    "# Función para limpiar texto\n",
    "def limpiar_texto(texto):\n",
    "    if isinstance(texto, str):\n",
    "        texto = unidecode(texto)  # Remueve tildes y caracteres especiales\n",
    "        texto = re.sub(r\"[^\\w\\s]\", \"\", texto)  # Elimina signos de puntuación\n",
    "        texto = re.sub(r\"\\s+\", \" \", texto).strip()  # Espacios extra\n",
    "    return texto"
   ]
  },
  {
   "cell_type": "code",
   "execution_count": 11,
   "id": "850b3932-7689-4546-8cf9-003259b48c2a",
   "metadata": {},
   "outputs": [
    {
     "name": "stdout",
     "output_type": "stream",
     "text": [
      "Archivo de calificaciones procesado y guardado.\n"
     ]
    }
   ],
   "source": [
    "# Procesar archivos de ratings\n",
    "# Cambiar la ruta dependiendo del Path que de en el segundo bloque de codigo\n",
    "rating_files = glob(\"C:/Users/ivan/.cache/kagglehub/datasets/netflix-inc/netflix-prize-data/versions/2/combined_data_*.txt\")\n",
    "\n",
    "data = []\n",
    "\n",
    "for file in rating_files:\n",
    "    with open(file, \"r\", encoding=\"utf-8\") as f:\n",
    "        movie_id = None\n",
    "        for line in f:\n",
    "            line = line.strip()\n",
    "            if line.endswith(\":\"):  # Identificar ID de película\n",
    "                movie_id = int(line[:-1])\n",
    "            else:\n",
    "                try:\n",
    "                    user_id, rating, date = line.split(\",\")\n",
    "                    data.append([movie_id, int(user_id), int(rating), date])\n",
    "                except ValueError:\n",
    "                    print(f\"Error al procesar la línea: {line}\")\n",
    "\n",
    "# Convertir en DataFrame\n",
    "df_ratings = pd.DataFrame(data, columns=[\"movie_id\", \"user_id\", \"rating\", \"date\"])\n",
    "df_ratings.to_csv(\"netflix_ratings_clean.csv\", index=False)\n",
    "\n",
    "print(\"Archivo de calificaciones procesado y guardado.\")"
   ]
  },
  {
   "cell_type": "code",
   "execution_count": 13,
   "id": "6f99d846-03fd-4525-bf3d-bb108cd6bfb0",
   "metadata": {},
   "outputs": [
    {
     "name": "stdout",
     "output_type": "stream",
     "text": [
      "   movie_id  user_id  rating        date\n",
      "0         1  1488844       3  2005-09-06\n",
      "1         1   822109       5  2005-05-13\n",
      "2         1   885013       4  2005-10-19\n",
      "3         1    30878       4  2005-12-26\n",
      "4         1   823519       3  2004-05-03\n",
      "5         1   893988       3  2005-11-17\n",
      "6         1   124105       4  2004-08-05\n",
      "7         1  1248029       3  2004-04-22\n",
      "8         1  1842128       4  2004-05-09\n",
      "9         1  2238063       3  2005-05-11\n",
      "(100480507, 4)\n"
     ]
    }
   ],
   "source": [
    "print(df_ratings.head(10))\n",
    "print(df_ratings.shape)"
   ]
  },
  {
   "cell_type": "code",
   "execution_count": 15,
   "id": "c883b3e7-e2c0-4b6e-9ea3-1d0309a4bf71",
   "metadata": {},
   "outputs": [
    {
     "name": "stdout",
     "output_type": "stream",
     "text": [
      "Archivo de títulos de películas procesado y guardado.\n"
     ]
    }
   ],
   "source": [
    "# Cargar archivo de películas\n",
    "df_movies = pd.read_csv(\"C:/Users/ivan/.cache/kagglehub/datasets/netflix-inc/netflix-prize-data/versions/2/movie_titles.csv\", \n",
    "                        encoding=\"latin1\", header=None, names=[\"movie_id\", \"year\", \"title\"], delimiter=\",\", on_bad_lines='skip')\n",
    "\n",
    "df_movies['year'] = df_movies['year'].fillna(0)\n",
    "df_movies['year'] = df_movies['year'].astype(int)\n",
    "\n",
    "# Limpiar los títulos de películas\n",
    "df_movies[\"title\"] = df_movies[\"title\"].apply(limpiar_texto)\n",
    "\n",
    "# Guardar el archivo limpio\n",
    "df_movies.to_csv(\"movie_titles_clean.csv\", index=False)\n",
    "\n",
    "print(\"Archivo de títulos de películas procesado y guardado.\")"
   ]
  },
  {
   "cell_type": "code",
   "execution_count": 17,
   "id": "0441c6d6-64d4-4086-8b45-215f5d6b0999",
   "metadata": {},
   "outputs": [
    {
     "name": "stdout",
     "output_type": "stream",
     "text": [
      "   movie_id  year                       title\n",
      "0         1  2003             Dinosaur Planet\n",
      "1         2  2004  Isle of Man TT 2004 Review\n",
      "2         3  1997                   Character\n",
      "3         4  1994   Paula Abduls Get Up Dance\n",
      "4         5  2004    The Rise and Fall of ECW\n",
      "5         6  1997                        Sick\n",
      "6         7  1992                       8 Man\n",
      "7         8  2004         What the Do We Know\n",
      "8         9  1991     Class of Nuke Em High 2\n",
      "9        10  2001                     Fighter\n",
      "(17434, 3)\n"
     ]
    }
   ],
   "source": [
    "print(df_movies.head(10))\n",
    "print(df_movies.shape)"
   ]
  },
  {
   "cell_type": "code",
   "execution_count": 21,
   "id": "cb50d700-1478-4e2a-a372-4bef56a3d9c0",
   "metadata": {},
   "outputs": [],
   "source": [
    "# Unir df_ratings con df_movies utilizando 'movie_id'\n",
    "df_final = pd.merge(df_ratings, df_movies[['movie_id', 'title']], on='movie_id', how='inner')\n",
    "\n",
    "# Seleccionar solo las columnas requeridas: 'movie_id', 'title', 'user_id', 'rating'\n",
    "df_final = df_final[['movie_id', 'title', 'user_id', 'rating']]"
   ]
  },
  {
   "cell_type": "code",
   "execution_count": 22,
   "id": "fc3764e1-35cf-431f-9426-c8950ce6f883",
   "metadata": {},
   "outputs": [
    {
     "name": "stdout",
     "output_type": "stream",
     "text": [
      "   movie_id            title  user_id  rating\n",
      "0         1  Dinosaur Planet  1488844       3\n",
      "1         1  Dinosaur Planet   822109       5\n",
      "2         1  Dinosaur Planet   885013       4\n",
      "3         1  Dinosaur Planet    30878       4\n",
      "4         1  Dinosaur Planet   823519       3\n",
      "5         1  Dinosaur Planet   893988       3\n",
      "6         1  Dinosaur Planet   124105       4\n",
      "7         1  Dinosaur Planet  1248029       3\n",
      "8         1  Dinosaur Planet  1842128       4\n",
      "9         1  Dinosaur Planet  2238063       3\n",
      "(98985951, 4)\n"
     ]
    }
   ],
   "source": [
    "# Mostrar el DataFrame final\n",
    "print(df_final.head(10))\n",
    "print(df_final.shape)"
   ]
  },
  {
   "cell_type": "code",
   "execution_count": 25,
   "id": "0ecb018e-c976-4bb7-a554-f990a425e22c",
   "metadata": {},
   "outputs": [],
   "source": [
    "df_final.to_csv(\"netflix_ratings_with_titles.csv\", index=False)"
   ]
  },
  {
   "cell_type": "code",
   "execution_count": null,
   "id": "7eff3cda-2e5f-4da6-910f-f39858e57a09",
   "metadata": {},
   "outputs": [],
   "source": []
  }
 ],
 "metadata": {
  "kernelspec": {
   "display_name": "Python 3 (ipykernel)",
   "language": "python",
   "name": "python3"
  },
  "language_info": {
   "codemirror_mode": {
    "name": "ipython",
    "version": 3
   },
   "file_extension": ".py",
   "mimetype": "text/x-python",
   "name": "python",
   "nbconvert_exporter": "python",
   "pygments_lexer": "ipython3",
   "version": "3.12.4"
  }
 },
 "nbformat": 4,
 "nbformat_minor": 5
}
